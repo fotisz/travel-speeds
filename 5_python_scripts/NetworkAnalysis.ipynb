{
 "cells": [
  {
   "cell_type": "markdown",
   "metadata": {
    "slideshow": {
     "slide_type": "slide"
    }
   },
   "source": [
    "# Dublin Networkx\n",
    "\n",
    "### Analysing Dublin's road network using NetworkX"
   ]
  },
  {
   "cell_type": "markdown",
   "metadata": {},
   "source": [
    "This Notebook provides an overview of importing the Shapefile data\n",
    "into the NetworkX Python library"
   ]
  },
  {
   "cell_type": "markdown",
   "metadata": {
    "slideshow": {
     "slide_type": "slide"
    }
   },
   "source": [
    "### Exploration\n",
    "\n",
    "Begin by importing the modules and required GRASS data"
   ]
  },
  {
   "cell_type": "code",
   "execution_count": 1,
   "metadata": {},
   "outputs": [],
   "source": [
    "import networkx as nx # use patched fork from github.com/ruaridhw/networkx/tree/write-shp-dev\n",
    "%matplotlib inline"
   ]
  },
  {
   "cell_type": "code",
   "execution_count": 2,
   "metadata": {},
   "outputs": [
    {
     "name": "stdout",
     "output_type": "stream",
     "text": [
      "CPU times: user 2min 45s, sys: 1.06 s, total: 2min 46s\n",
      "Wall time: 2min 47s\n"
     ]
    }
   ],
   "source": [
    "%time G = nx.read_shp('../2_grass_data_output/connections_shp/connections.shp')"
   ]
  },
  {
   "cell_type": "markdown",
   "metadata": {
    "slideshow": {
     "slide_type": "slide"
    }
   },
   "source": [
    "Examine the number of nodes and edges:"
   ]
  },
  {
   "cell_type": "code",
   "execution_count": 3,
   "metadata": {},
   "outputs": [
    {
     "name": "stdout",
     "output_type": "stream",
     "text": [
      "Name: \n",
      "Type: DiGraph\n",
      "Number of nodes: 85119\n",
      "Number of edges: 95867\n",
      "Average in degree:   1.1263\n",
      "Average out degree:   1.1263\n"
     ]
    }
   ],
   "source": [
    "print(nx.info(G))"
   ]
  },
  {
   "cell_type": "markdown",
   "metadata": {
    "slideshow": {
     "slide_type": "fragment"
    }
   },
   "source": [
    "What is the degree of each node?"
   ]
  },
  {
   "cell_type": "code",
   "execution_count": 4,
   "metadata": {},
   "outputs": [
    {
     "data": {
      "text/plain": [
       "[0, 21221, 24358, 36432, 3043, 61, 4]"
      ]
     },
     "execution_count": 4,
     "metadata": {},
     "output_type": "execute_result"
    }
   ],
   "source": [
    "nx.degree_histogram(G)"
   ]
  },
  {
   "cell_type": "markdown",
   "metadata": {
    "slideshow": {
     "slide_type": "slide"
    }
   },
   "source": [
    "Is the road network strongly connected as expected?"
   ]
  },
  {
   "cell_type": "code",
   "execution_count": 5,
   "metadata": {},
   "outputs": [
    {
     "data": {
      "text/plain": [
       "False"
      ]
     },
     "execution_count": 5,
     "metadata": {},
     "output_type": "execute_result"
    }
   ],
   "source": [
    "nx.is_strongly_connected(G)"
   ]
  },
  {
   "cell_type": "code",
   "execution_count": 6,
   "metadata": {},
   "outputs": [
    {
     "data": {
      "text/plain": [
       "36"
      ]
     },
     "execution_count": 6,
     "metadata": {},
     "output_type": "execute_result"
    }
   ],
   "source": [
    "nx.number_weakly_connected_components(G)"
   ]
  },
  {
   "cell_type": "markdown",
   "metadata": {
    "slideshow": {
     "slide_type": "slide"
    }
   },
   "source": [
    "Print out the first 10 edges:"
   ]
  },
  {
   "cell_type": "code",
   "execution_count": 7,
   "metadata": {},
   "outputs": [
    {
     "name": "stdout",
     "output_type": "stream",
     "text": [
      "((317995.5708697437, 245878.08877053304), (317973.5650240276, 245907.60584958008))\n",
      "((317995.5708697437, 245878.08877053304), (318026.7365888019, 245907.81662953694))\n",
      "((317973.5650240276, 245907.60584958008), (318382.4449278968, 246117.12593351814))\n",
      "((317960.94469078025, 245853.84258207353), (317941.54076457256, 245885.65162972905))\n",
      "((317960.94469078025, 245853.84258207353), (317986.6586180811, 245862.27751578222))\n",
      "((317941.54076457256, 245885.65162972905), (317942.0665525985, 245891.2323251177))\n",
      "((317894.5420938695, 245824.35177009527), (317960.94469078025, 245853.84258207353))\n",
      "((317894.5420938695, 245824.35177009527), (317941.54076457256, 245885.65162972905))\n",
      "((317942.0665525985, 245891.2323251177), (317932.9315142884, 245937.77282186068))\n",
      "((317942.0665525985, 245891.2323251177), (317952.4183059603, 245902.62524526526))\n"
     ]
    }
   ],
   "source": [
    "for i, edge in enumerate(G.edges()):\n",
    "    if i == 10:\n",
    "        break\n",
    "    print(edge)"
   ]
  },
  {
   "cell_type": "markdown",
   "metadata": {
    "slideshow": {
     "slide_type": "slide"
    }
   },
   "source": [
    "Print out the node attributes:"
   ]
  },
  {
   "cell_type": "code",
   "execution_count": 8,
   "metadata": {},
   "outputs": [
    {
     "name": "stdout",
     "output_type": "stream",
     "text": [
      "{}\n"
     ]
    }
   ],
   "source": [
    "print(G.nodes[(317995.5708697437, 245878.08877053304)])"
   ]
  },
  {
   "cell_type": "markdown",
   "metadata": {},
   "source": [
    "No nodes have *any* attributes"
   ]
  },
  {
   "cell_type": "code",
   "execution_count": 9,
   "metadata": {},
   "outputs": [],
   "source": [
    "for i, node in enumerate(G.nodes()):\n",
    "    if len(G.nodes[node]) > 0:\n",
    "        print(node)"
   ]
  },
  {
   "cell_type": "markdown",
   "metadata": {
    "slideshow": {
     "slide_type": "slide"
    }
   },
   "source": [
    "What does the edge data look like?"
   ]
  },
  {
   "cell_type": "code",
   "execution_count": 10,
   "metadata": {
    "collapsed": true
   },
   "outputs": [
    {
     "data": {
      "text/plain": [
       "{'Json': '{ \"type\": \"LineString\", \"coordinates\": [...] }',\n",
       " 'ShpName': 'connections',\n",
       " 'Wkb': b'...',\n",
       " 'Wkt': 'LINESTRING (...)',\n",
       " 'cat': 1,\n",
       " 'func_class': 3,\n",
       " 'length': 40,\n",
       " 'link_id': ... ,\n",
       " 'trav_dir': 'T',\n",
       " 'u00_00': 48,\n",
       " 'u00_15': 48,\n",
       " ...\n",
       " 'urban': 'Y'}"
      ]
     },
     "execution_count": 10,
     "metadata": {},
     "output_type": "execute_result"
    }
   ],
   "source": [
    "G.edges[(317995.5708697437, 245878.08877053304), (317973.5650240276, 245907.60584958008)]"
   ]
  },
  {
   "cell_type": "markdown",
   "metadata": {
    "slideshow": {
     "slide_type": "slide"
    }
   },
   "source": [
    "Print out the 8am speed for the first 10 edges:"
   ]
  },
  {
   "cell_type": "code",
   "execution_count": 11,
   "metadata": {},
   "outputs": [
    {
     "name": "stdout",
     "output_type": "stream",
     "text": [
      "34\n",
      "33\n",
      "54\n",
      "30\n",
      "27\n",
      "39\n",
      "38\n",
      "33\n",
      "36\n",
      "35\n"
     ]
    }
   ],
   "source": [
    "for i, (edge, speed) in enumerate(nx.get_edge_attributes(G,'u08_00').items()):\n",
    "    if i == 10:\n",
    "        break\n",
    "    print(speed)"
   ]
  },
  {
   "cell_type": "markdown",
   "metadata": {
    "slideshow": {
     "slide_type": "slide"
    }
   },
   "source": [
    "What does the graph structure of the first Weakly Connected Component look like?"
   ]
  },
  {
   "cell_type": "code",
   "execution_count": 12,
   "metadata": {},
   "outputs": [
    {
     "name": "stdout",
     "output_type": "stream",
     "text": [
      "Name: \n",
      "Type: DiGraph\n",
      "Number of nodes: 84918\n",
      "Number of edges: 95694\n",
      "Average in degree:   1.1269\n",
      "Average out degree:   1.1269\n"
     ]
    }
   ],
   "source": [
    "for i, graph in enumerate(nx.weakly_connected_component_subgraphs(G)):\n",
    "    print(nx.info(graph))\n",
    "    if i == 0:\n",
    "        break"
   ]
  },
  {
   "cell_type": "markdown",
   "metadata": {
    "slideshow": {
     "slide_type": "slide"
    }
   },
   "source": [
    "### Calculated Attributes\n",
    "\n",
    "Calculate the travel time (in hours) for every road at 5:15pm"
   ]
  },
  {
   "cell_type": "code",
   "execution_count": 13,
   "metadata": {
    "slideshow": {
     "slide_type": "fragment"
    }
   },
   "outputs": [],
   "source": [
    "d = {}\n",
    "for (n1, n2) in G.edges():\n",
    "    e = G[n1][n2]\n",
    "    d[(n1, n2)] = (e['length'] / 1000.0) / (e['u17_15'] * 1.0) # Convert 'length' from metres to km\n",
    "nx.set_edge_attributes(G, d, 'time_1715')"
   ]
  },
  {
   "cell_type": "code",
   "execution_count": 14,
   "metadata": {},
   "outputs": [
    {
     "name": "stdout",
     "output_type": "stream",
     "text": [
      "Length (m):  12\n",
      "Speed (km/h):  17\n",
      "Time (secs):  2.5411764705882356\n"
     ]
    }
   ],
   "source": [
    "print('Length (m): ', G[n1][n2]['length'])\n",
    "print('Speed (km/h): ', G[n1][n2]['u17_15'])\n",
    "print('Time (secs): ', G[n1][n2]['time_1715'] * 60 * 60)"
   ]
  },
  {
   "cell_type": "markdown",
   "metadata": {
    "slideshow": {
     "slide_type": "slide"
    }
   },
   "source": [
    "### Network Algorithms\n",
    "\n",
    "Calculate the **Edge Betweeness Centrality** for each edge by sampling 1000 other edges weighted by travel time.\n",
    "\n",
    "> For a given edge $e$, it is the sum over all node pairs of the fraction of all-pairs shortest paths that pass through $e$"
   ]
  },
  {
   "cell_type": "code",
   "execution_count": 15,
   "metadata": {},
   "outputs": [
    {
     "name": "stdout",
     "output_type": "stream",
     "text": [
      "CPU times: user 4min 12s, sys: 1.79 s, total: 4min 14s\n",
      "Wall time: 4min 13s\n"
     ]
    },
    {
     "data": {
      "text/plain": [
       "95867"
      ]
     },
     "execution_count": 15,
     "metadata": {},
     "output_type": "execute_result"
    }
   ],
   "source": [
    "%time bc = nx.edge_betweenness_centrality(G, k=1000, normalized=False, weight='time_1715', seed=999)\n",
    "len(bc)"
   ]
  },
  {
   "cell_type": "markdown",
   "metadata": {
    "slideshow": {
     "slide_type": "slide"
    }
   },
   "source": [
    "Calculate the **Page Rank** for each node with edges weighted by travel time.\n",
    "\n",
    "> A ranking of the nodes in the graph based on the structure of the incoming links."
   ]
  },
  {
   "cell_type": "code",
   "execution_count": 16,
   "metadata": {},
   "outputs": [
    {
     "name": "stdout",
     "output_type": "stream",
     "text": [
      "CPU times: user 6.2 s, sys: 1.28 s, total: 7.49 s\n",
      "Wall time: 7.75 s\n"
     ]
    }
   ],
   "source": [
    "%time pr = nx.pagerank(G, weight = 'time_1715')\n",
    "pr_dict = {node: 0 for node in G.nodes} # Create dummy dictionary with all nodes as zeroes\n",
    "pr_dict.update(pr)"
   ]
  },
  {
   "cell_type": "markdown",
   "metadata": {
    "slideshow": {
     "slide_type": "slide"
    }
   },
   "source": [
    "Calculate the **Shortest Path Lengths** from Dublin's *The Spire* tourist attraction to every other point in Dublin."
   ]
  },
  {
   "cell_type": "code",
   "execution_count": 17,
   "metadata": {},
   "outputs": [],
   "source": [
    "# Find geographical coordinates of The Spire node as a tuple\n",
    "approx_spire = (315920.300778, 234593.104858) # Estimate Coordinates from GRASS\n",
    "for node in G.nodes():\n",
    "    x, y = node\n",
    "    if abs(approx_spire[0] - x) + abs(approx_spire[1] - y) < 1:\n",
    "        spire = node # Find nearest node to within Manhattan Distance of 1\n",
    "        break"
   ]
  },
  {
   "cell_type": "code",
   "execution_count": 18,
   "metadata": {},
   "outputs": [
    {
     "name": "stdout",
     "output_type": "stream",
     "text": [
      "CPU times: user 31.5 ms, sys: 26 ms, total: 57.5 ms\n",
      "Wall time: 56.3 ms\n"
     ]
    }
   ],
   "source": [
    "%time path_lengths = nx.shortest_path_length(G, source = spire, target = None, weight = 'time_1715')"
   ]
  },
  {
   "cell_type": "markdown",
   "metadata": {
    "slideshow": {
     "slide_type": "slide"
    }
   },
   "source": [
    "If the graph were strongly connected we would expect every node to be reachable from *The Spire*..."
   ]
  },
  {
   "cell_type": "code",
   "execution_count": 19,
   "metadata": {},
   "outputs": [
    {
     "data": {
      "text/plain": [
       "6086"
      ]
     },
     "execution_count": 19,
     "metadata": {},
     "output_type": "execute_result"
    }
   ],
   "source": [
    "pl_dict = {node: 0 for node in G.nodes} # Create dummy dictionary with all nodes as zeroes\n",
    "pl_dict.update(path_lengths)\n",
    "len(path_lengths)"
   ]
  },
  {
   "cell_type": "markdown",
   "metadata": {},
   "source": [
    "Instead, only 6086 of the 85119 nodes are reachable"
   ]
  },
  {
   "cell_type": "markdown",
   "metadata": {
    "slideshow": {
     "slide_type": "slide"
    }
   },
   "source": [
    "### Update Graph\n",
    "Save the new metrics to graph structure."
   ]
  },
  {
   "cell_type": "code",
   "execution_count": 20,
   "metadata": {},
   "outputs": [],
   "source": [
    "nx.set_node_attributes(G, pl_dict, 'spire_time')\n",
    "nx.set_node_attributes(G, pr_dict, 'page_rank')\n",
    "nx.set_edge_attributes(G, bc, 'b_c')"
   ]
  },
  {
   "cell_type": "markdown",
   "metadata": {
    "slideshow": {
     "slide_type": "slide"
    }
   },
   "source": [
    "### Output to .shp\n",
    "Output our new metrics to a directory of shapefiles for further geospatial analysis"
   ]
  },
  {
   "cell_type": "code",
   "execution_count": 21,
   "metadata": {},
   "outputs": [],
   "source": [
    "nx.write_shp(G, '../6_python_data_output/networkx_shp')"
   ]
  },
  {
   "cell_type": "markdown",
   "metadata": {
    "slideshow": {
     "slide_type": "slide"
    }
   },
   "source": [
    "### Visualising the Graph\n",
    "Use a dedicated Graph visualisation package…"
   ]
  },
  {
   "cell_type": "code",
   "execution_count": 22,
   "metadata": {
    "slideshow": {
     "slide_type": "notes"
    }
   },
   "outputs": [],
   "source": [
    "# For each node, set 'label' attribute as the minimum func_class of all incident edges\n",
    "for node in G.nodes():\n",
    "    func_classes = [data['func_class'] for u, v, data in G.edges(node, data=True)]\n",
    "    if len(func_classes) == 0:\n",
    "        label = '5'\n",
    "    else:\n",
    "        label = str(min(func_classes))\n",
    "    G.nodes[node]['label'] = label"
   ]
  },
  {
   "cell_type": "code",
   "execution_count": 23,
   "metadata": {
    "slideshow": {
     "slide_type": "notes"
    }
   },
   "outputs": [],
   "source": [
    "# Remove binary data\n",
    "for i, (u, v, data) in enumerate(G.edges(data=True)):\n",
    "    for a in ['Wkb', 'Wkt', 'Json', 'ShpName']:\n",
    "        if a in G[u][v]:\n",
    "            del G[u][v][a]"
   ]
  },
  {
   "cell_type": "code",
   "execution_count": 24,
   "metadata": {},
   "outputs": [],
   "source": [
    "# Get a subgraph of 100 nodes\n",
    "H = G.subgraph([node for i, node in enumerate(G.nodes()) if i < 100])"
   ]
  },
  {
   "cell_type": "markdown",
   "metadata": {},
   "source": [
    "Push subgraph to a local Docker Neo4j graph database"
   ]
  },
  {
   "cell_type": "code",
   "execution_count": 25,
   "metadata": {},
   "outputs": [],
   "source": [
    "import neonx # from github.com/ruaridhw/neonx/tree/labels-auth\n",
    "graph_db = 'http://localhost:7474/db/data/'\n",
    "login = 'neo4j'\n",
    "pw = 'focused_leavitt'\n",
    "relationship = 'ROAD_TO'\n",
    "\n",
    "results = neonx.write_to_neo(graph_db, H, relationship, server_login = login, server_pwd = pw)"
   ]
  },
  {
   "cell_type": "markdown",
   "metadata": {
    "slideshow": {
     "slide_type": "slide"
    }
   },
   "source": [
    "Directed graph of 100 random nodes with edge road speed data preserved.\n",
    "\n",
    "Each node is coloured using the minimum Function Class of the incident edges"
   ]
  },
  {
   "cell_type": "markdown",
   "metadata": {
    "slideshow": {
     "slide_type": "-"
    }
   },
   "source": [
    "<center><img src=\"../8_plots/graph.png\" alt=\"Drawing\" style=\"width: 400px;\"/></center>"
   ]
  }
 ],
 "metadata": {
  "kernelspec": {
   "display_name": "Python 3",
   "language": "python",
   "name": "python3"
  },
  "language_info": {
   "codemirror_mode": {
    "name": "ipython",
    "version": 3
   },
   "file_extension": ".py",
   "mimetype": "text/x-python",
   "name": "python",
   "nbconvert_exporter": "python",
   "pygments_lexer": "ipython3",
   "version": "3.6.3"
  }
 },
 "nbformat": 4,
 "nbformat_minor": 2
}
